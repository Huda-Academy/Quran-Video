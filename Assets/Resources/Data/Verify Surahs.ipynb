{
 "cells": [
  {
   "cell_type": "code",
   "execution_count": 1,
   "metadata": {},
   "outputs": [],
   "source": [
    "import os\n",
    "import json\n",
    "import re"
   ]
  },
  {
   "cell_type": "code",
   "execution_count": 2,
   "metadata": {},
   "outputs": [],
   "source": [
    "# Path to the input folder containing the MP3 files\n",
    "input_folder = r\"D:\\Quran\"\n",
    "\n",
    "# Path to the surahs.json file\n",
    "surahs_file = \"./surahs.json\""
   ]
  },
  {
   "cell_type": "code",
   "execution_count": 15,
   "metadata": {},
   "outputs": [],
   "source": [
    "# Load the surahs.json file\n",
    "with open(surahs_file, \"r\") as file:\n",
    "    surahs_data = json.load(file)"
   ]
  },
  {
   "cell_type": "code",
   "execution_count": 5,
   "metadata": {},
   "outputs": [
    {
     "name": "stdout",
     "output_type": "stream",
     "text": [
      "Qari: Abd Al-Rahman Al-Sodais\n",
      "Qari: Abd-Allah Basfar\n",
      "Qari: AbduBasit AbdulSamad\n",
      "Qari: AbdulBasit AbdulSamad Mogawwad\n",
      "Qari: Abu-Bakr Al-Shatery\n",
      "Qari: Ahmad Al-Agamy\n",
      "Qari: Haitham Al-Dukhin\n",
      "Qari: Mahmoud Ali AlBanna\n",
      "Qari: Mahmoud Ali AlBanna Mogawwad\n",
      "Qari: Mahmoud Khalil Al-Hosary\n",
      "Qari: Mahmoud Khalil Alhosary Mogawwad\n",
      "Qari: Mashary Al-Afasy\n",
      "Qari: Mohammad Gebriel\n",
      "Qari: Mohammad Mahmoud Al-Tablawi\n",
      "Qari: Mohammad Refaat\n",
      "Qari: Mohammad Seddiq Al-Menshawy\n",
      "Qari: Mohammad Seddiq Al-Menshawy Mogawwad\n",
      "Qari: Mostafa Ismail\n",
      "Qari: Saad Al-Ghamdy\n",
      "Qari: Tawfeeq Al-Saegh\n"
     ]
    }
   ],
   "source": [
    "# Iterate over the items in the input_folder\n",
    "subfolder_paths = []\n",
    "for item in os.listdir(input_folder):\n",
    "    qari_path = os.path.join(input_folder, item)\n",
    "    \n",
    "    # Check if the item is a subfolder\n",
    "    if os.path.isdir(qari_path):\n",
    "        subfolder_paths.append(qari_path)\n",
    "        print(f\"Qari: {item}\")\n"
   ]
  },
  {
   "cell_type": "code",
   "execution_count": 16,
   "metadata": {},
   "outputs": [
    {
     "name": "stdout",
     "output_type": "stream",
     "text": [
      "MP3 file '030 - Ar-Rum.mp3' does not exist for surah 'Ar-Rum'\n",
      "D:\\Quran\\Abd Al-Rahman Al-Sodais\\030 - Ar­Room.mp3\n",
      "MP3 file '032 - As-Sajdah.mp3' does not exist for surah 'As-Sajdah'\n",
      "D:\\Quran\\Abd Al-Rahman Al-Sodais\\032 - As­Sajdah.mp3\n",
      "MP3 file '033 - Al-Ahzab.mp3' does not exist for surah 'Al-Ahzab'\n",
      "D:\\Quran\\Abd Al-Rahman Al-Sodais\\033 - Al­Ahzab.mp3\n",
      "MP3 file '034 - Saba.mp3' does not exist for surah 'Saba'\n",
      "D:\\Quran\\Abd Al-Rahman Al-Sodais\\034 - Saba'.mp3\n",
      "MP3 file '036 - Ya-Sin.mp3' does not exist for surah 'Ya-Sin'\n",
      "D:\\Quran\\Abd Al-Rahman Al-Sodais\\036 - Ya­Sin.mp3\n",
      "MP3 file '045 - Al-Jathiyah.mp3' does not exist for surah 'Al-Jathiyah'\n",
      "D:\\Quran\\Abd Al-Rahman Al-Sodais\\045 - Al-Jathiya.mp3\n",
      "MP3 file '051 - Adh-Dhariyat.mp3' does not exist for surah 'Adh-Dhariyat'\n",
      "D:\\Quran\\Abd Al-Rahman Al-Sodais\\051 - Az-Zariyat.mp3\n",
      "MP3 file '060 - Al-Mumtahanah.mp3' does not exist for surah 'Al-Mumtahanah'\n",
      "D:\\Quran\\Abd Al-Rahman Al-Sodais\\060 - Al-Mumtahinah.mp3\n",
      "MP3 file '071 - Nuh.mp3' does not exist for surah 'Nuh'\n",
      "D:\\Quran\\Abd Al-Rahman Al-Sodais\\071 - Nooh.mp3\n",
      "MP3 file '078 - An-Naba.mp3' does not exist for surah 'An-Naba'\n",
      "D:\\Quran\\Abd Al-Rahman Al-Sodais\\078 - An-Naba'.mp3\n",
      "MP3 file '080 - Abasa.mp3' does not exist for surah 'Abasa'\n",
      "D:\\Quran\\Abd Al-Rahman Al-Sodais\\080 - 'Abasa.mp3\n",
      "MP3 file '098 - Al-Bayyinah.mp3' does not exist for surah 'Al-Bayyinah'\n",
      "D:\\Quran\\Abd Al-Rahman Al-Sodais\\098 - Al-Baiyinah.mp3\n",
      "MP3 file '106 - Quraysh.mp3' does not exist for surah 'Quraysh'\n",
      "D:\\Quran\\Abd Al-Rahman Al-Sodais\\106 - Quraish.mp3\n",
      "MP3 file '108 - Al-Kawthar.mp3' does not exist for surah 'Al-Kawthar'\n",
      "D:\\Quran\\Abd Al-Rahman Al-Sodais\\108 - Al-Kauthar.mp3\n"
     ]
    }
   ],
   "source": [
    "import glob\n",
    "qari_folder = subfolder_paths[0]\n",
    "# Iterate over the items in the surahs.json file\n",
    "for surah in surahs_data:\n",
    "    name_en = surah[\"name_en\"]\n",
    "    padded_number = str(surah[\"number\"]).zfill(3)\n",
    "    mp3_filename = f\"{padded_number} - {name_en}.mp3\"\n",
    "\n",
    "    # Check if the MP3 file exists in the input folder\n",
    "    if not os.path.exists(os.path.join(qari_folder, mp3_filename)):\n",
    "        print(f\"MP3 file '{mp3_filename}' does not exist for surah '{name_en}'\")\n",
    "        # Find the file in the Qari folder that starts with the same padded_number\n",
    "        matching_files = glob.glob(os.path.join(qari_folder, f\"{padded_number}*\"))\n",
    "\n",
    "        # Print the matching file paths\n",
    "        for file_path in matching_files:\n",
    "            print(file_path)\n",
    "        \n"
   ]
  }
 ],
 "metadata": {
  "kernelspec": {
   "display_name": "nb",
   "language": "python",
   "name": "python3"
  },
  "language_info": {
   "codemirror_mode": {
    "name": "ipython",
    "version": 3
   },
   "file_extension": ".py",
   "mimetype": "text/x-python",
   "name": "python",
   "nbconvert_exporter": "python",
   "pygments_lexer": "ipython3",
   "version": "3.11.7"
  }
 },
 "nbformat": 4,
 "nbformat_minor": 2
}
